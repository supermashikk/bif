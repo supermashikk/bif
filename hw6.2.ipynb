{
 "cells": [
  {
   "cell_type": "markdown",
   "metadata": {},
   "source": [
    "# task 2"
   ]
  },
  {
   "cell_type": "code",
   "execution_count": 2,
   "metadata": {},
   "outputs": [
    {
     "name": "stdout",
     "output_type": "stream",
     "text": [
      "enter the sequence atgcatg\n"
     ]
    }
   ],
   "source": [
    "# BWT(X)\n",
    "\n",
    "seq = input('enter the sequence ')\n",
    "seq = seq.upper()\n",
    "seq += '$'"
   ]
  },
  {
   "cell_type": "code",
   "execution_count": 10,
   "metadata": {},
   "outputs": [
    {
     "name": "stdout",
     "output_type": "stream",
     "text": [
      "shift array is:  ['$ATGCATG', 'ATG$ATGC', 'ATGCATG$', 'CATG$ATG', 'G$ATGCAT', 'GCATG$AT', 'TG$ATGCA', 'TGCATG$A']\n"
     ]
    }
   ],
   "source": [
    "def shift_arr(x):\n",
    "    \n",
    "    shift_array = []\n",
    "    for i in range (len(x)):\n",
    "        a = x[-1] + x[:-1]\n",
    "        x = ''.join(a)\n",
    "        shift_array.append(x)\n",
    "\n",
    "    shift_array = sorted(shift_array)\n",
    "    return(shift_array)\n",
    "\n",
    "print('shift array is: ', shift_arr(seq))    "
   ]
  },
  {
   "cell_type": "code",
   "execution_count": 11,
   "metadata": {},
   "outputs": [
    {
     "name": "stdout",
     "output_type": "stream",
     "text": [
      "result of BWT is:  GC$GTTAA\n"
     ]
    }
   ],
   "source": [
    "def BWT(x):\n",
    "    \n",
    "    transformed_seq = ''\n",
    "    shift_array = shift_arr(x)\n",
    "    for i in range(len(x)):\n",
    "        a = shift_array[i][-1]\n",
    "        transformed_seq += a\n",
    "    \n",
    "    return(transformed_seq)\n",
    "    \n",
    "print('result of BWT is: ', BWT(seq))    "
   ]
  },
  {
   "cell_type": "code",
   "execution_count": 6,
   "metadata": {},
   "outputs": [
    {
     "name": "stdout",
     "output_type": "stream",
     "text": [
      "suffix array is:  [8, 5, 1, 4, 7, 3, 6, 2]\n"
     ]
    }
   ],
   "source": [
    "def S(x):\n",
    "    \n",
    "    shift_array = []\n",
    "    for i in range (len(x)):\n",
    "        a = x[-1] + x[:-1]\n",
    "        x = ''.join(a)\n",
    "        shift_array.append(x)   \n",
    "    shift_array = sorted(shift_array)\n",
    "    \n",
    "    suffix_array = []\n",
    "    for i in range (len(x)):\n",
    "        k = 0\n",
    "        while shift_array[i][k] != '$':\n",
    "            k += 1\n",
    "        suffix_array.append(len(x)-k)\n",
    "    \n",
    "    print('suffix array is: ', suffix_array)\n",
    "    return(suffix_array)\n",
    "\n",
    "S(seq)"
   ]
  },
  {
   "cell_type": "code",
   "execution_count": 24,
   "metadata": {},
   "outputs": [
    {
     "data": {
      "text/plain": [
       "1"
      ]
     },
     "execution_count": 24,
     "metadata": {},
     "output_type": "execute_result"
    }
   ],
   "source": [
    "def C(let, x):\n",
    "    \n",
    "    x = BWT(x)\n",
    "    k = 0\n",
    "    for i in range(len(x)):\n",
    "        if BWT(x)[i] < let:\n",
    "            k += 1\n",
    "    return(k)\n",
    "    \n",
    "C('A', seq)"
   ]
  },
  {
   "cell_type": "code",
   "execution_count": 25,
   "metadata": {},
   "outputs": [
    {
     "name": "stdout",
     "output_type": "stream",
     "text": [
      "C($) == 0\n",
      "C(A) == 1\n",
      "C(C) == 3\n",
      "C(G) == 4\n",
      "C(T) == 6\n"
     ]
    }
   ],
   "source": [
    "for l in ('$','A','C','G','T'):\n",
    "    print('C(',l,') == ',C(l, seq),sep = \"\")"
   ]
  }
 ],
 "metadata": {
  "kernelspec": {
   "display_name": "Python 3",
   "language": "python",
   "name": "python3"
  },
  "language_info": {
   "codemirror_mode": {
    "name": "ipython",
    "version": 3
   },
   "file_extension": ".py",
   "mimetype": "text/x-python",
   "name": "python",
   "nbconvert_exporter": "python",
   "pygments_lexer": "ipython3",
   "version": "3.7.4"
  }
 },
 "nbformat": 4,
 "nbformat_minor": 2
}
