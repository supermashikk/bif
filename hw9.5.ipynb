{
 "cells": [
  {
   "cell_type": "code",
   "execution_count": 1,
   "metadata": {},
   "outputs": [
    {
     "name": "stdout",
     "output_type": "stream",
     "text": [
      "         Xi     F(Xi)\n",
      "0 -0.831343  1.799341\n",
      "1 -0.908217  2.389485\n",
      "2  0.307941  1.051077\n",
      "3 -0.079937  1.003210\n",
      "4 -0.536457  1.184936\n",
      "5  0.442466  1.115094\n",
      "6 -0.687176  1.376480\n",
      "7 -0.647088  1.311622\n",
      "8 -0.427311  1.106066\n",
      "9 -0.481417  1.140912\n",
      "3.1637539960884875\n"
     ]
    }
   ],
   "source": [
    "import pandas as pd\n",
    "from scipy.stats import uniform \n",
    "import math\n",
    "\n",
    "a = -1\n",
    "b = 1\n",
    "rv = uniform(a,b-a)\n",
    "\n",
    "df = pd.DataFrame({\n",
    "    'Xi': rv.rvs(size = 15000)\n",
    "    })\n",
    "df['F(Xi)'] = (1-(df['Xi'])**2)**(-0.5)\n",
    "\n",
    "print(df.head(10))\n",
    "\n",
    "integral = (df['F(Xi)'].mean())*(b-a)\n",
    "print(integral)"
   ]
  },
  {
   "cell_type": "code",
   "execution_count": 2,
   "metadata": {},
   "outputs": [
    {
     "name": "stdout",
     "output_type": "stream",
     "text": [
      "-0.022161342498694392\n"
     ]
    }
   ],
   "source": [
    "print(math.pi - integral)"
   ]
  }
 ],
 "metadata": {
  "kernelspec": {
   "display_name": "Python 3",
   "language": "python",
   "name": "python3"
  },
  "language_info": {
   "codemirror_mode": {
    "name": "ipython",
    "version": 3
   },
   "file_extension": ".py",
   "mimetype": "text/x-python",
   "name": "python",
   "nbconvert_exporter": "python",
   "pygments_lexer": "ipython3",
   "version": "3.7.4"
  }
 },
 "nbformat": 4,
 "nbformat_minor": 2
}
