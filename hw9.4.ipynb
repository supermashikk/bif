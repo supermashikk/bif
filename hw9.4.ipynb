{
 "cells": [
  {
   "cell_type": "code",
   "execution_count": 1,
   "metadata": {},
   "outputs": [
    {
     "name": "stdout",
     "output_type": "stream",
     "text": [
      "         Xi      F(X)\n",
      "0  0.872758  2.659138\n",
      "1  0.539072  0.626613\n",
      "2  0.749495  1.684091\n",
      "3  0.584640  0.799331\n",
      "4  0.207293  0.035630\n",
      "5  1.052729  4.666695\n",
      "6  0.166337  0.018409\n",
      "7  0.178245  0.022652\n",
      "8  0.815881  2.172402\n",
      "9  0.780084  1.898822\n",
      "2.6755617946645143\n"
     ]
    }
   ],
   "source": [
    "import pandas as pd\n",
    "from scipy.stats import uniform \n",
    "import math\n",
    "\n",
    "a = 0\n",
    "b = (math.e)**(0.25)\n",
    "rv = uniform(a,b-a)\n",
    "\n",
    "df = pd.DataFrame({\n",
    "    'Xi': rv.rvs(size = 15000),\n",
    "})\n",
    "df['F(X)'] = 4*(df['Xi'])**3\n",
    "\n",
    "print(df.head(10))\n",
    "\n",
    "integral = (df['F(X)'].mean())*(b-a)\n",
    "print(integral)"
   ]
  },
  {
   "cell_type": "code",
   "execution_count": 2,
   "metadata": {},
   "outputs": [
    {
     "name": "stdout",
     "output_type": "stream",
     "text": [
      "0.04272003379453082\n"
     ]
    }
   ],
   "source": [
    "print(math.e - integral)"
   ]
  }
 ],
 "metadata": {
  "kernelspec": {
   "display_name": "Python 3",
   "language": "python",
   "name": "python3"
  },
  "language_info": {
   "codemirror_mode": {
    "name": "ipython",
    "version": 3
   },
   "file_extension": ".py",
   "mimetype": "text/x-python",
   "name": "python",
   "nbconvert_exporter": "python",
   "pygments_lexer": "ipython3",
   "version": "3.7.4"
  }
 },
 "nbformat": 4,
 "nbformat_minor": 2
}
