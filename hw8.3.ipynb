{
 "cells": [
  {
   "cell_type": "code",
   "execution_count": 1,
   "metadata": {},
   "outputs": [],
   "source": [
    "import pandas as pd\n",
    "import matplotlib.pyplot as plt\n",
    "from scipy.stats import randint\n",
    "import seaborn as sns"
   ]
  },
  {
   "cell_type": "code",
   "execution_count": 2,
   "metadata": {},
   "outputs": [
    {
     "name": "stdout",
     "output_type": "stream",
     "text": [
      "     k  frequence\n",
      "0    7      0.169\n",
      "1    8      0.134\n",
      "2    9      0.094\n",
      "3    5      0.110\n",
      "4   12      0.040\n",
      "5    6      0.131\n",
      "6    2      0.037\n",
      "7    4      0.092\n",
      "8   10      0.084\n",
      "9   11      0.045\n",
      "10   3      0.064\n"
     ]
    },
    {
     "data": {
      "image/png": "[encoded data removed]",
      "text/plain": [
       "<Figure size 432x288 with 1 Axes>"
      ]
     },
     "metadata": {
      "needs_background": "light"
     },
     "output_type": "display_data"
    }
   ],
   "source": [
    "n = 1000\n",
    "counts = {}\n",
    "values = []\n",
    "\n",
    "for i in range(n):\n",
    "    k = sum(randint.rvs(1,7, size = 2))\n",
    "    counts[k] = counts.get(k, 0) + 1\n",
    "    values.append(k)\n",
    "    \n",
    "df = pd.DataFrame({\n",
    "    'k': [k for k in counts.keys()],\n",
    "    'frequence': [counts[k]/ n for k in counts.keys()]\n",
    "})    \n",
    "\n",
    "print(df)\n",
    "sns.barplot(data = df, x = 'k', y = 'frequence')\n",
    "plt.tight_layout()"
   ]
  }
 ],
 "metadata": {
  "kernelspec": {
   "display_name": "Python 3",
   "language": "python",
   "name": "python3"
  },
  "language_info": {
   "codemirror_mode": {
    "name": "ipython",
    "version": 3
   },
   "file_extension": ".py",
   "mimetype": "text/x-python",
   "name": "python",
   "nbconvert_exporter": "python",
   "pygments_lexer": "ipython3",
   "version": "3.7.4"
  }
 },
 "nbformat": 4,
 "nbformat_minor": 2
}
