{
 "cells": [
  {
   "cell_type": "code",
   "execution_count": 6,
   "metadata": {},
   "outputs": [
    {
     "name": "stdout",
     "output_type": "stream",
     "text": [
      "enter a and b\n",
      "8\n",
      "10\n",
      "[9.7146751]\n"
     ]
    }
   ],
   "source": [
    "import pandas as pd\n",
    "from scipy.stats import uniform\n",
    "print ('enter a and b')\n",
    "a = int(input())\n",
    "b = int(input())\n",
    "\n",
    "def uniform_rvs(x, y):\n",
    "    rv1 = uniform(x, y-x)\n",
    "    rv2 = uniform(0, 1)\n",
    "    n = rv2.rvs(size = 1)\n",
    "    m = n*(y-x) + x #random number\n",
    "    return(m)\n",
    "\n",
    "print(uniform_rvs(a,b))"
   ]
  }
 ],
 "metadata": {
  "kernelspec": {
   "display_name": "Python 3",
   "language": "python",
   "name": "python3"
  },
  "language_info": {
   "codemirror_mode": {
    "name": "ipython",
    "version": 3
   },
   "file_extension": ".py",
   "mimetype": "text/x-python",
   "name": "python",
   "nbconvert_exporter": "python",
   "pygments_lexer": "ipython3",
   "version": "3.7.4"
  }
 },
 "nbformat": 4,
 "nbformat_minor": 2
}
